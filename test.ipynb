{
 "cells": [
  {
   "cell_type": "code",
   "execution_count": 2,
   "metadata": {},
   "outputs": [
    {
     "name": "stdout",
     "output_type": "stream",
     "text": [
      "tensor([1., 2., 3., 4.], device='mps:0', dtype=torch.float16)\n"
     ]
    },
    {
     "data": {
      "text/plain": [
       "torch.Tensor"
      ]
     },
     "execution_count": 2,
     "metadata": {},
     "output_type": "execute_result"
    }
   ],
   "source": [
    "import torch\n",
    "import numpy as np\n",
    "\n",
    "device = \"mps\" if torch.mps.is_available() else \"cpu\"\n",
    "\n",
    "\n",
    "t1 = torch.tensor([1,2,3,4], dtype=torch.float16, device=device,requires_grad=False)\n",
    "type(t1)\n",
    "print(t1)\n",
    "t2 = torch.Tensor([1,2,3,4])\n",
    "type(t2)\n",
    "\n",
    "\n"
   ]
  },
  {
   "cell_type": "code",
   "execution_count": 3,
   "metadata": {},
   "outputs": [
    {
     "name": "stdout",
     "output_type": "stream",
     "text": [
      "tensor([1., 2., 3., 4.], dtype=torch.float16)\n",
      "cpu\n",
      "torch.Size([4])\n"
     ]
    }
   ],
   "source": [
    "t1 = torch.tensor([1,2,3,4], dtype=torch.float16, device=\"cpu\",requires_grad=False)\n",
    "type(t1)\n",
    "print(t1)\n",
    "print(t1.device)\n",
    "print(t1.shape)\n",
    "\n"
   ]
  },
  {
   "cell_type": "code",
   "execution_count": 4,
   "metadata": {},
   "outputs": [
    {
     "name": "stdout",
     "output_type": "stream",
     "text": [
      "tensor([[1., 1., 1., 1.],\n",
      "        [1., 1., 1., 1.],\n",
      "        [1., 1., 1., 1.]])\n",
      "torch.float32\n",
      "cpu\n",
      "False\n"
     ]
    }
   ],
   "source": [
    "t3 = torch.ones(3,4)\n",
    "type(t3)\n",
    "print(t3)\n",
    "print (t3.dtype)\n",
    "print(t3.device)\n",
    "print(t3.requires_grad)\n"
   ]
  },
  {
   "cell_type": "code",
   "execution_count": 6,
   "metadata": {},
   "outputs": [
    {
     "name": "stdout",
     "output_type": "stream",
     "text": [
      "tensor([[1., 1., 1., 1.],\n",
      "        [1., 1., 1., 1.],\n",
      "        [1., 1., 1., 1.]], device='mps:0')\n"
     ]
    }
   ],
   "source": [
    "t3 = torch.ones((3,4),dtype=torch.float32, device=device)\n",
    "print(t3)\n"
   ]
  },
  {
   "cell_type": "code",
   "execution_count": 7,
   "metadata": {},
   "outputs": [
    {
     "name": "stdout",
     "output_type": "stream",
     "text": [
      "tensor([[0.9546, 0.1338, 0.7690, 0.8037],\n",
      "        [0.4385, 0.1909, 0.6841, 0.4648],\n",
      "        [0.8477, 0.4170, 0.8467, 0.4863]], dtype=torch.float16)\n",
      "torch.Size([3, 4])\n"
     ]
    }
   ],
   "source": [
    "t4 = torch.rand((3,4),dtype= torch.float16)\n",
    "print(t4)\n",
    "print(t4.shape)"
   ]
  },
  {
   "cell_type": "code",
   "execution_count": 12,
   "metadata": {},
   "outputs": [
    {
     "name": "stdout",
     "output_type": "stream",
     "text": [
      "[[1. 2.]\n",
      " [3. 4.]]\n",
      "[[  1. 100.]\n",
      " [  3.   4.]]\n"
     ]
    },
    {
     "data": {
      "text/plain": [
       "torch.Tensor"
      ]
     },
     "execution_count": 12,
     "metadata": {},
     "output_type": "execute_result"
    }
   ],
   "source": [
    "arr = [[1,2],[3,4]]\n",
    "type(arr)\n",
    "n1 = np.array(arr,dtype=np.float64) #Cpu 에서만 활동하는 데이터타입 numpy\n",
    "type(n1)\n",
    "print(n1)\n",
    "n1[0,1]=100\n",
    "print(n1)\n",
    "\n",
    "t1 = torch.tensor(arr,dtype=torch.float32,device=device,requires_grad=True)\n",
    "type(t1)"
   ]
  },
  {
   "cell_type": "code",
   "execution_count": 13,
   "metadata": {},
   "outputs": [
    {
     "name": "stdout",
     "output_type": "stream",
     "text": [
      "tensor([[1., 2.],\n",
      "        [3., 4.]], device='mps:0', requires_grad=True)\n"
     ]
    }
   ],
   "source": [
    "t1 = torch.tensor(arr,dtype=torch.float32,device=device,requires_grad=True)\n",
    "type(t1)\n",
    "print(t1)\n"
   ]
  },
  {
   "cell_type": "code",
   "execution_count": 14,
   "metadata": {},
   "outputs": [
    {
     "name": "stdout",
     "output_type": "stream",
     "text": [
      "tensor([[  1., 100.],\n",
      "        [  3.,   4.]], dtype=torch.float64)\n"
     ]
    }
   ],
   "source": [
    "t2 =torch.from_numpy(n1)\n",
    "type(t2)\n",
    "print(t2)"
   ]
  },
  {
   "cell_type": "code",
   "execution_count": 16,
   "metadata": {},
   "outputs": [
    {
     "name": "stdout",
     "output_type": "stream",
     "text": [
      "[[  1. 100.]\n",
      " [  3.   4.]]\n"
     ]
    }
   ],
   "source": [
    "n2 = t2.numpy()\n",
    "type(n2)\n",
    "print(n2)"
   ]
  },
  {
   "cell_type": "code",
   "execution_count": 18,
   "metadata": {},
   "outputs": [
    {
     "name": "stdout",
     "output_type": "stream",
     "text": [
      "[[1. 1. 1. 1.]\n",
      " [1. 1. 1. 1.]\n",
      " [1. 1. 1. 1.]]\n"
     ]
    }
   ],
   "source": [
    "n1 = np.ones((3,4))\n",
    "print(n1)"
   ]
  },
  {
   "cell_type": "code",
   "execution_count": 19,
   "metadata": {},
   "outputs": [
    {
     "name": "stdout",
     "output_type": "stream",
     "text": [
      "tensor([[0.0065, 0.3895, 0.0118],\n",
      "        [0.9251, 0.6714, 0.8641],\n",
      "        [0.5300, 0.4179, 0.7876]])\n"
     ]
    }
   ],
   "source": [
    "t1 = torch.rand((3,3))\n",
    "print(t1)"
   ]
  },
  {
   "cell_type": "code",
   "execution_count": 20,
   "metadata": {},
   "outputs": [
    {
     "name": "stdout",
     "output_type": "stream",
     "text": [
      "tensor([[[0.5508, 0.4672, 0.0863],\n",
      "         [0.5270, 0.1829, 0.4392],\n",
      "         [0.9376, 0.5199, 0.4801]],\n",
      "\n",
      "        [[0.8539, 0.2733, 0.3862],\n",
      "         [0.6955, 0.0622, 0.8765],\n",
      "         [0.4745, 0.2865, 0.8435]]])\n"
     ]
    }
   ],
   "source": [
    "t1 = torch.rand((2,3,3))\n",
    "print(t1)"
   ]
  }
 ],
 "metadata": {
  "kernelspec": {
   "display_name": "base",
   "language": "python",
   "name": "python3"
  },
  "language_info": {
   "codemirror_mode": {
    "name": "ipython",
    "version": 3
   },
   "file_extension": ".py",
   "mimetype": "text/x-python",
   "name": "python",
   "nbconvert_exporter": "python",
   "pygments_lexer": "ipython3",
   "version": "3.11.7"
  }
 },
 "nbformat": 4,
 "nbformat_minor": 2
}
